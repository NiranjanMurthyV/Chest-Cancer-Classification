{
 "cells": [
  {
   "cell_type": "code",
   "execution_count": 1,
   "id": "b7f17189",
   "metadata": {},
   "outputs": [],
   "source": [
    "from box import ConfigBox\n"
   ]
  },
  {
   "cell_type": "code",
   "execution_count": 2,
   "id": "291fc4b8",
   "metadata": {},
   "outputs": [],
   "source": [
    "\n",
    "d2 = {\"key\":\"value\",\"key1\": \"value1\"}"
   ]
  },
  {
   "cell_type": "code",
   "execution_count": 3,
   "id": "9c2e5fcb",
   "metadata": {},
   "outputs": [],
   "source": [
    "\n",
    "d2 = ConfigBox(d2)"
   ]
  },
  {
   "cell_type": "code",
   "execution_count": 6,
   "id": "d9daf93e",
   "metadata": {},
   "outputs": [
    {
     "data": {
      "text/plain": [
       "ConfigBox({'key': 'value', 'key1': 'value1'})"
      ]
     },
     "execution_count": 6,
     "metadata": {},
     "output_type": "execute_result"
    }
   ],
   "source": [
    "\n",
    "d2"
   ]
  },
  {
   "cell_type": "code",
   "execution_count": 7,
   "id": "a132bc09",
   "metadata": {},
   "outputs": [
    {
     "data": {
      "text/plain": [
       "'value'"
      ]
     },
     "execution_count": 7,
     "metadata": {},
     "output_type": "execute_result"
    }
   ],
   "source": [
    "d2.key\n"
   ]
  },
  {
   "cell_type": "code",
   "execution_count": 8,
   "id": "e4f753d0",
   "metadata": {},
   "outputs": [],
   "source": [
    "def get_product(x:int, y:int):\n",
    "    return x*y"
   ]
  },
  {
   "cell_type": "code",
   "execution_count": 9,
   "id": "e8efbaee",
   "metadata": {},
   "outputs": [
    {
     "data": {
      "text/plain": [
       "6"
      ]
     },
     "execution_count": 9,
     "metadata": {},
     "output_type": "execute_result"
    }
   ],
   "source": [
    "get_product(x = 2, y = 3)"
   ]
  },
  {
   "cell_type": "code",
   "execution_count": 11,
   "id": "3d64cfc2",
   "metadata": {},
   "outputs": [],
   "source": [
    "\n",
    "from ensure import ensure_annotations"
   ]
  },
  {
   "cell_type": "code",
   "execution_count": 12,
   "id": "a458a371",
   "metadata": {},
   "outputs": [],
   "source": [
    "@ensure_annotations\n",
    "def get_product(x:int, y:int):\n",
    "    return x*y"
   ]
  },
  {
   "cell_type": "code",
   "execution_count": 13,
   "id": "489a55d5",
   "metadata": {},
   "outputs": [
    {
     "ename": "EnsureError",
     "evalue": "Argument y of type <class 'str'> to <function get_product at 0x000002AACCD33C40> does not match annotation type <class 'int'>",
     "output_type": "error",
     "traceback": [
      "\u001b[31m---------------------------------------------------------------------------\u001b[39m",
      "\u001b[31mEnsureError\u001b[39m                               Traceback (most recent call last)",
      "\u001b[36mCell\u001b[39m\u001b[36m \u001b[39m\u001b[32mIn[13]\u001b[39m\u001b[32m, line 1\u001b[39m\n\u001b[32m----> \u001b[39m\u001b[32m1\u001b[39m \u001b[43mget_product\u001b[49m\u001b[43m(\u001b[49m\u001b[43mx\u001b[49m\u001b[43m \u001b[49m\u001b[43m=\u001b[49m\u001b[43m \u001b[49m\u001b[32;43m2\u001b[39;49m\u001b[43m,\u001b[49m\u001b[43m \u001b[49m\u001b[43my\u001b[49m\u001b[43m \u001b[49m\u001b[43m=\u001b[49m\u001b[43m \u001b[49m\u001b[33;43m\"\u001b[39;49m\u001b[33;43m3\u001b[39;49m\u001b[33;43m\"\u001b[39;49m\u001b[43m)\u001b[49m\n",
      "\u001b[36mFile \u001b[39m\u001b[32mc:\\Users\\NIRANJAN MURTHY V\\anaconda3\\anna\\envs\\cancer\\Lib\\site-packages\\ensure\\main.py:803\u001b[39m, in \u001b[36mWrappedFunction.__call__\u001b[39m\u001b[34m(self, *args, **kwargs)\u001b[39m\n\u001b[32m    798\u001b[39m     \u001b[38;5;28;01mif\u001b[39;00m \u001b[38;5;129;01mnot\u001b[39;00m \u001b[38;5;28misinstance\u001b[39m(value, templ):\n\u001b[32m    799\u001b[39m         msg = (\n\u001b[32m    800\u001b[39m             \u001b[33m\"\u001b[39m\u001b[33mArgument \u001b[39m\u001b[38;5;132;01m{arg}\u001b[39;00m\u001b[33m of type \u001b[39m\u001b[38;5;132;01m{valt}\u001b[39;00m\u001b[33m to \u001b[39m\u001b[38;5;132;01m{f}\u001b[39;00m\u001b[33m \u001b[39m\u001b[33m\"\u001b[39m\n\u001b[32m    801\u001b[39m             \u001b[33m\"\u001b[39m\u001b[33mdoes not match annotation type \u001b[39m\u001b[38;5;132;01m{t}\u001b[39;00m\u001b[33m\"\u001b[39m\n\u001b[32m    802\u001b[39m         )\n\u001b[32m--> \u001b[39m\u001b[32m803\u001b[39m         \u001b[38;5;28;01mraise\u001b[39;00m EnsureError(msg.format(\n\u001b[32m    804\u001b[39m             arg=arg, f=\u001b[38;5;28mself\u001b[39m.f, t=templ, valt=\u001b[38;5;28mtype\u001b[39m(value)\n\u001b[32m    805\u001b[39m         ))\n\u001b[32m    807\u001b[39m \u001b[38;5;28;01mreturn\u001b[39;00m \u001b[38;5;28mself\u001b[39m.f(*args, **kwargs)\n",
      "\u001b[31mEnsureError\u001b[39m: Argument y of type <class 'str'> to <function get_product at 0x000002AACCD33C40> does not match annotation type <class 'int'>"
     ]
    }
   ],
   "source": [
    "\n",
    "get_product(x = 2, y = \"3\")"
   ]
  }
 ],
 "metadata": {
  "kernelspec": {
   "display_name": "cancer",
   "language": "python",
   "name": "python3"
  },
  "language_info": {
   "codemirror_mode": {
    "name": "ipython",
    "version": 3
   },
   "file_extension": ".py",
   "mimetype": "text/x-python",
   "name": "python",
   "nbconvert_exporter": "python",
   "pygments_lexer": "ipython3",
   "version": "3.11.9"
  }
 },
 "nbformat": 4,
 "nbformat_minor": 5
}
