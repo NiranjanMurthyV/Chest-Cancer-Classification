{
 "cells": [
  {
   "cell_type": "code",
   "execution_count": 68,
   "id": "df5445df",
   "metadata": {},
   "outputs": [],
   "source": [
    "import gdown"
   ]
  },
  {
   "cell_type": "code",
   "execution_count": 69,
   "id": "623fedd3",
   "metadata": {},
   "outputs": [],
   "source": [
    "url = \"https://drive.google.com/file/d/1k57EKA86F_L6IvrZFiAQDYOadF9zSg3u/view?usp=sharing\""
   ]
  },
  {
   "cell_type": "code",
   "execution_count": 70,
   "id": "8fa3afad",
   "metadata": {},
   "outputs": [
    {
     "data": {
      "text/plain": [
       "str"
      ]
     },
     "execution_count": 70,
     "metadata": {},
     "output_type": "execute_result"
    }
   ],
   "source": [
    "\n",
    "type(url)"
   ]
  },
  {
   "cell_type": "code",
   "execution_count": 71,
   "id": "aab7b4b7",
   "metadata": {},
   "outputs": [
    {
     "data": {
      "text/plain": [
       "'1k57EKA86F_L6IvrZFiAQDYOadF9zSg3u'"
      ]
     },
     "execution_count": 71,
     "metadata": {},
     "output_type": "execute_result"
    }
   ],
   "source": [
    "\n",
    "file_id = url.split(\"/\")[-2]\n",
    "file_id"
   ]
  },
  {
   "cell_type": "code",
   "execution_count": 72,
   "id": "79f0674a",
   "metadata": {},
   "outputs": [
    {
     "name": "stderr",
     "output_type": "stream",
     "text": [
      "Downloading...\n",
      "From (original): https://drive.google.com/uc?/export=download&id=1k57EKA86F_L6IvrZFiAQDYOadF9zSg3u\n",
      "From (redirected): https://drive.google.com/uc?%2Fexport=download&id=1k57EKA86F_L6IvrZFiAQDYOadF9zSg3u&confirm=t&uuid=4ab953da-cae3-4097-95ea-ab5204145e01\n",
      "To: c:\\Chest-Cancer-Classification\\research\\Chest-CT-Scan-data.zip\n",
      "100%|██████████| 49.0M/49.0M [00:17<00:00, 2.81MB/s]\n"
     ]
    },
    {
     "data": {
      "text/plain": [
       "'Chest-CT-Scan-data.zip'"
      ]
     },
     "execution_count": 72,
     "metadata": {},
     "output_type": "execute_result"
    }
   ],
   "source": [
    "\n",
    "prefix = 'https://drive.google.com/uc?/export=download&id='\n",
    "gdown.download(prefix+file_id, \"Chest-CT-Scan-data.zip\")"
   ]
  }
 ],
 "metadata": {
  "language_info": {
   "name": "python"
  }
 },
 "nbformat": 4,
 "nbformat_minor": 5
}
